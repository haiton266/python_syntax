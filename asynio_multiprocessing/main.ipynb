{
 "cells": [
  {
   "cell_type": "markdown",
   "metadata": {},
   "source": [
    "CPU-bound: If your task is computationally intensive (e.g., image filtering, resizing, or transformations), focus on multiprocessing.\n",
    "\n",
    "I/O-bound: If the task involves reading/writing data to disk or the network (e.g., loading/saving images), focus on async I/O."
   ]
  },
  {
   "cell_type": "markdown",
   "metadata": {},
   "source": [
    "\n",
    "---\n",
    "\n",
    "### **Key Comparison**\n",
    "\n",
    "| **Feature**         | **Multiprocessing**              | **Asyncio**                    |\n",
    "|----------------------|----------------------------------|--------------------------------|\n",
    "| **Concurrency Type** | Parallelism (multiple cores)     | Cooperative multitasking       |\n",
    "| **Best For**         | CPU-bound tasks                 | I/O-bound tasks                |\n",
    "| **Memory Usage**     | High (separate processes)       | Low (single-threaded)          |\n",
    "| **Performance**      | Scales with CPU cores           | Scales with number of I/O tasks |\n",
    "| **Complexity**       | Higher (IPC required)           | Moderate (requires async/await) |\n",
    "| **GIL Impact**       | Bypasses GIL                    | Limited by GIL                 |\n",
    "| **Debugging**        | Can be complex                  | Moderate complexity            |\n",
    "\n",
    "---\n",
    "\n",
    "### **Which to Use?**\n",
    "1. **Use Multiprocessing**:\n",
    "   - When tasks are computation-heavy.\n",
    "   - When you need to use multiple CPU cores for faster execution.\n",
    "\n",
    "2. **Use Asyncio**:\n",
    "   - When tasks involve heavy I/O (e.g., fetching data, network calls).\n",
    "   - When you need to handle many simultaneous connections efficiently.\n",
    "\n",
    "For hybrid workloads (CPU + I/O), you can combine both approaches. For example, use **multiprocessing** for parallel computations and **asyncio** for managing I/O tasks within each process."
   ]
  },
  {
   "cell_type": "markdown",
   "metadata": {},
   "source": [
    "ACTUAL CASE"
   ]
  },
  {
   "cell_type": "markdown",
   "metadata": {},
   "source": [
    "1. Suppose I have task I fetch information from 3 server, I will implement: (I/O-bound)\n",
    "\n",
    "---\n",
    "```python\n",
    "import asyncio\n",
    "import aiohttp\n",
    "\n",
    "async def fetch_data(session, url):\n",
    "    try:\n",
    "        async with session.get(url) as response:\n",
    "            data = await response.text()  # You can change this to `.json()` if the API returns JSON.\n",
    "            return data\n",
    "    except Exception as e:\n",
    "        print(f\"Error fetching from {url}: {e}\")\n",
    "        return None\n",
    "\n",
    "async def fetch_from_servers(servers):\n",
    "    async with aiohttp.ClientSession() as session:\n",
    "        # Start fetching from all servers concurrently\n",
    "        tasks = [asyncio.create_task(fetch_data(session, url)) for url in servers]\n",
    "        \n",
    "        # Use asyncio's `as_completed` to process tasks as they finish\n",
    "        for task in asyncio.as_completed(tasks):\n",
    "            result = await task\n",
    "            if result:  # If we got a valid result\n",
    "                print(\"Got data:\", result)\n",
    "                # Cancel remaining tasks\n",
    "                for t in tasks:\n",
    "                    t.cancel()\n",
    "                return result\n",
    "        \n",
    "        # If no server returned valid data\n",
    "        print(\"No valid response from any server.\")\n",
    "        return None\n",
    "\n",
    "# Example usage\n",
    "servers = [\n",
    "    \"https://jsonplaceholder.typicode.com/posts/1\",\n",
    "    \"https://jsonplaceholder.typicode.com/posts/2\",\n",
    "    \"https://jsonplaceholder.typicode.com/posts/3\",\n",
    "]\n",
    "\n",
    "asyncio.run(fetch_from_servers(servers))\n",
    "\n",
    "\n",
    "```\n",
    "\n",
    "---"
   ]
  },
  {
   "cell_type": "markdown",
   "metadata": {},
   "source": [
    "2. Process data, use multiple process for speeding up (CPU-bound)"
   ]
  },
  {
   "cell_type": "markdown",
   "metadata": {},
   "source": [
    "```python\n",
    "import os\n",
    "from glob import glob\n",
    "from tqdm import tqdm\n",
    "import multiprocessing as mp\n",
    "\n",
    "# Example process function\n",
    "def process(idx):\n",
    "    # Read the image file using its index\n",
    "    file_path = files[idx]\n",
    "    # Perform some image processing task\n",
    "    # For example, let's assume we are resizing the images using OpenCV\n",
    "    import cv2\n",
    "    img = cv2.imread(file_path)\n",
    "    resized_img = cv2.resize(img, (256, 256))\n",
    "    # Save or do something with the processed image\n",
    "    output_path = file_path.replace('/images/', '/processed_images/')\n",
    "    os.makedirs(os.path.dirname(output_path), exist_ok=True)\n",
    "    cv2.imwrite(output_path, resized_img)\n",
    "\n",
    "# Main script\n",
    "for folder in os.listdir('/mnt/md0/dacl10k/images/')[1:]:\n",
    "    files = sorted(glob(f'/mnt/md0/dacl10k/images/{folder}/*.jpg'))\n",
    "    \n",
    "    start = 0\n",
    "    with mp.Pool(processes=8) as pool:\n",
    "        idxs = list(range(start, len(files)))\n",
    "        imap = pool.imap(process, idxs)\n",
    "        _ = list(tqdm(imap, total=len(files) - start))\n",
    "```"
   ]
  },
  {
   "cell_type": "markdown",
   "metadata": {},
   "source": []
  }
 ],
 "metadata": {
  "kernelspec": {
   "display_name": ".venv",
   "language": "python",
   "name": "python3"
  },
  "language_info": {
   "codemirror_mode": {
    "name": "ipython",
    "version": 3
   },
   "file_extension": ".py",
   "mimetype": "text/x-python",
   "name": "python",
   "nbconvert_exporter": "python",
   "pygments_lexer": "ipython3",
   "version": "3.11.9"
  }
 },
 "nbformat": 4,
 "nbformat_minor": 2
}
